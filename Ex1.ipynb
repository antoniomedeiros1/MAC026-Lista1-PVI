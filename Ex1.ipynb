{
 "cells": [
  {
   "cell_type": "markdown",
   "metadata": {},
   "source": [
    "## Exercício 1"
   ]
  },
  {
   "cell_type": "markdown",
   "metadata": {},
   "source": [
    "Para este exercício será considerada a equação:\n",
    "\n",
    "$$\n",
    "\\dfrac{dy}{dt} = 8\n",
    "$$\n",
    "\n",
    "com $y(0) = 1$.\n",
    "\n",
    "Além disso, foi fornecido a solução exata:\n",
    "$$\n",
    "y(t) = t + 1\n",
    "$$\n",
    "\n"
   ]
  },
  {
   "cell_type": "markdown",
   "metadata": {},
   "source": [
    "Serão utilizados três métodos para resolver o problema numéricamente, considerando o tempo total $T = 1$ e dois valores para $h$: $0.5$ e $0.25$. "
   ]
  },
  {
   "cell_type": "markdown",
   "metadata": {},
   "source": [
    "## Método de Euler Explícito\n",
    "\n",
    "Para o método de Euler explícito, podemos aproximar a derivada como sendo:\n",
    "\n",
    "$$\n",
    "\\dfrac{dy}{dt} = \\dfrac{y_{i} - y_{i-1}}{\\Delta t} \n",
    "$$"
   ]
  },
  {
   "cell_type": "markdown",
   "metadata": {},
   "source": []
  },
  {
   "cell_type": "code",
   "execution_count": null,
   "metadata": {},
   "outputs": [],
   "source": []
  }
 ],
 "metadata": {
  "language_info": {
   "name": "python"
  },
  "orig_nbformat": 4
 },
 "nbformat": 4,
 "nbformat_minor": 2
}
